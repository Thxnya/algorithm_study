{
 "cells": [
  {
   "cell_type": "code",
   "execution_count": null,
   "id": "2bd2b4be",
   "metadata": {},
   "outputs": [],
   "source": [
    "# 알고리즘 성능 평가\n",
    "# 시간 복잡도 : 특정한 크기의 입력에 대하여 알고리즘의 수행 시간 분석\n",
    "# 공간 복잡도 : 특정한 크기의 입력에 대하여 알고리즘의 메모리 사용량 분석\n",
    "# 동일한 기능을 수행할 경우, 복잡도가 낮을수록 좋은 알고리즘\n",
    "\n",
    "# 시간제한은 통상 1 ~ 5초정도로 생각\n",
    "# N의 범위가 500인 경우 : 시간 복잡도가 N^3\n",
    "# N의 범위가 2,000인 경우 : 시간 복잡도가 N^2\n",
    "# N의 범위가 100,000인 경우 : 시간 복잡도가 NlogN\n",
    "# N의 범위가 10,000,00인 경우 : 시간 복잡도가 N\n",
    "\n",
    "# 알고리즘 문제 해결 과정\n",
    "# 1. 지문 읽기 및 컴퓨터적 사고\n",
    "# 2. 요구사항(복잡도) 분석\n",
    "# 3. 문제 해결을 위한 아이디어 찾기\n",
    "# 4. 소스코드 설계 및 코딩\n",
    "# 일반적으로 핵심 아이디어를 캐치한다면, 간결하게 소스코드를 작성할 수 있는 형태로 문제를 출제함\n",
    "\n",
    "# 수행 시간 측정\n",
    "# import time\n",
    "# start_time = time.time()\n",
    "# end_time = time.time()\n",
    "# print(end_time - start_time)"
   ]
  },
  {
   "cell_type": "code",
   "execution_count": 1,
   "id": "68ab940a",
   "metadata": {},
   "outputs": [
    {
     "data": {
      "text/plain": [
       "[0, 1, 2, 3, 4, 5, 6, 7, 8, 9]"
      ]
     },
     "execution_count": 1,
     "metadata": {},
     "output_type": "execute_result"
    }
   ],
   "source": [
    "# 리스트 컴프리헨션\n",
    "array = [i for i in range(10)]\n",
    "array"
   ]
  },
  {
   "cell_type": "code",
   "execution_count": 2,
   "id": "06d1cd09",
   "metadata": {},
   "outputs": [
    {
     "data": {
      "text/plain": [
       "[[0, 0, 0], [0, 0, 0], [0, 0, 0], [0, 0, 0]]"
      ]
     },
     "execution_count": 2,
     "metadata": {},
     "output_type": "execute_result"
    }
   ],
   "source": [
    "# N * M 크기의 2차원 리스트 초기화\n",
    "n = 4\n",
    "m = 3\n",
    "array = [[0]*m for _ in range(n)]\n",
    "array"
   ]
  },
  {
   "cell_type": "code",
   "execution_count": 4,
   "id": "8d38d5e1",
   "metadata": {},
   "outputs": [
    {
     "data": {
      "text/plain": [
       "[[0, 0, 0], [0, 0, 0], [0, 0, 0], [0, 0, 0]]"
      ]
     },
     "execution_count": 4,
     "metadata": {},
     "output_type": "execute_result"
    }
   ],
   "source": [
    "# N * M 크기의 2차원 리스트 초기화 (잘못된 방법)\n",
    "# 리스트의 각 요소가 같은 주소값을 가지게 됨\n",
    "n = 4\n",
    "m = 3\n",
    "array = [[0]* m] * n\n",
    "array"
   ]
  },
  {
   "cell_type": "code",
   "execution_count": null,
   "id": "eef845b0",
   "metadata": {},
   "outputs": [],
   "source": [
    "# append 원소 삽입\n",
    "# sort 정렬\n",
    "# reverse 순서 뒤집기\n",
    "# insert 특정한 위치에 삽입\n",
    "# count 데이터 개수세기\n",
    "# remove 특정한 값 제거"
   ]
  },
  {
   "cell_type": "code",
   "execution_count": 5,
   "id": "ac33b7eb",
   "metadata": {},
   "outputs": [
    {
     "data": {
      "text/plain": [
       "[1, 2, 4]"
      ]
     },
     "execution_count": 5,
     "metadata": {},
     "output_type": "execute_result"
    }
   ],
   "source": [
    "a = [1,2,3,4,5,5,5]\n",
    "remove_set = {3,5}\n",
    "\n",
    "result = [i for i in a if i not in remove_set]\n",
    "result"
   ]
  },
  {
   "cell_type": "code",
   "execution_count": 9,
   "id": "90c6f457",
   "metadata": {},
   "outputs": [
    {
     "name": "stdout",
     "output_type": "stream",
     "text": [
      "{1, 2, 3, 4, 5, 6, 7}\n",
      "{3, 4, 5}\n",
      "{1, 2}\n",
      "{1, 2, 3, 4, 5, 6}\n",
      "{1, 2, 3, 4, 5, 6, 7, 8}\n",
      "{2, 3, 4, 5, 6, 7, 8}\n"
     ]
    }
   ],
   "source": [
    "# 집합 자료형의 연산\n",
    "a = set([1,2,3,4,5])\n",
    "b = set([3,4,5,6,7])\n",
    "\n",
    "print(a | b)\n",
    "print(a & b)\n",
    "print(a - b)\n",
    "\n",
    "a.add(6)\n",
    "print(a)\n",
    "a.update([7,8])\n",
    "print(a)\n",
    "a.remove(1)\n",
    "print(a)"
   ]
  },
  {
   "cell_type": "code",
   "execution_count": null,
   "id": "1cc777c5",
   "metadata": {},
   "outputs": [],
   "source": [
    "# 공백을 기준으로 구분된 데이터를 입력 받을 때\n",
    "list(map(int, input(.split())))\n",
    "# 빠르게 입력받기\n",
    "# 자동으로 줄바꿈이 입력되기 때문에 rstrip()과 함께 사용\n",
    "import sys\n",
    "sys.stdin.readline().rstrip()"
   ]
  },
  {
   "cell_type": "code",
   "execution_count": 14,
   "id": "76ac93f9",
   "metadata": {},
   "outputs": [
    {
     "name": "stdout",
     "output_type": "stream",
     "text": [
      "1 2\n",
      "7 8 정답은7입니다.\n",
      "정답은 7입니다.\n"
     ]
    }
   ],
   "source": [
    "# print()는 기본적으로 줄바꿈 수행\n",
    "# 줄바꿈을 원하지 않는 경우엔 end 사용\n",
    "a = 1\n",
    "b = 2\n",
    "print(a,b)\n",
    "print(7, end=\" \")\n",
    "print(8, end=\" \")\n",
    "\n",
    "answer = 7\n",
    "print(\"정답은\" + str(answer) + \"입니다.\")\n",
    "print(f'정답은 {answer}입니다.')"
   ]
  },
  {
   "cell_type": "code",
   "execution_count": null,
   "id": "a5635f0f",
   "metadata": {},
   "outputs": [],
   "source": [
    "# 들여쓰기 - 4개의 공백 문자를 사용하는 것을 표준으로 설정"
   ]
  },
  {
   "cell_type": "code",
   "execution_count": 17,
   "id": "4e99ea26",
   "metadata": {},
   "outputs": [
    {
     "name": "stdout",
     "output_type": "stream",
     "text": [
      "Success\n",
      "Success\n"
     ]
    }
   ],
   "source": [
    "# x in 리스트 - 리스트 안에 x가 들어가 있을 때 참이다.\n",
    "# x not in 문자열 - 문자열 안에 x가 들어가 있지 않을 때 참이다.\n",
    "\n",
    "# 조건문에서 실행될 소스코드가 한 줄인 경우, 줄 바꿈을 하지 않아도 됨\n",
    "score = 85\n",
    "if score >= 80: result = 'Success'\n",
    "else: result = 'Fail'\n",
    "print(result)\n",
    "\n",
    "# 조건부 표현식은 if~else문을 한 줄에 작성할 수 있게 해줌\n",
    "score = 85\n",
    "result = 'Success' if score >= 80 else 'Fail'\n",
    "print(result)"
   ]
  },
  {
   "cell_type": "code",
   "execution_count": 18,
   "id": "e85bfc37",
   "metadata": {},
   "outputs": [
    {
     "name": "stdout",
     "output_type": "stream",
     "text": [
      "1 번 학생은 합격입니다.\n",
      "5 번 학생은 합격입니다.\n"
     ]
    }
   ],
   "source": [
    "# 특정 번호의 학생은 제외하기\n",
    "scores = [90,85,77,65,97]\n",
    "cheating_student_list = {2,4}\n",
    "\n",
    "for i in range(5):\n",
    "    if i+1 in cheating_student_list:\n",
    "        continue\n",
    "    if scores[i] >= 80:\n",
    "        print(i+1, '번 학생은 합격입니다.')"
   ]
  },
  {
   "cell_type": "code",
   "execution_count": 22,
   "id": "2936bb3f",
   "metadata": {},
   "outputs": [
    {
     "name": "stdout",
     "output_type": "stream",
     "text": [
      "[('이순신', 32), ('홍길동', 50), ('아무개', 74)]\n",
      "[('이순신', 32), ('홍길동', 50), ('아무개', 74)]\n",
      "[7, 9, 11, 13, 15]\n"
     ]
    }
   ],
   "source": [
    "# 람다 표현식\n",
    "array = [('홍길동',50),('이순신',32),('아무개',74)]\n",
    "\n",
    "def my_key(x):\n",
    "    return x[1]\n",
    "\n",
    "print(sorted(array, key=my_key))\n",
    "print(sorted(array, key=lambda x: x[1]))\n",
    "\n",
    "# 각 리스트 요소끼리 더하기\n",
    "list1 = [1,2,3,4,5]\n",
    "list2 = [6,7,8,9,10]\n",
    "\n",
    "result = list(map(lambda a,b: a+b, list1, list2))\n",
    "print(result)"
   ]
  },
  {
   "cell_type": "code",
   "execution_count": null,
   "id": "8f7b7254",
   "metadata": {},
   "outputs": [],
   "source": [
    "# itertools - 반복되는 형태의 데이터를 처리하기 위한 유용한 기능들을 제공\n",
    "#    - 특히 순열과 조합 라이브러리\n",
    "# heapq - 힙 자료구조를 \n",
    "#    - 제공 일반적으로 우선순위 큐 기능을 구현하기 위해 사용됩니다.\n",
    "# bisect - 이진 탐색 기능을 제공\n",
    "# collections - 덱, 카운터 등의 유용한 자료구조를 포함\n",
    "# math - 필수적 수학적 기능 제공"
   ]
  },
  {
   "cell_type": "code",
   "execution_count": 23,
   "id": "6126d6a1",
   "metadata": {},
   "outputs": [
    {
     "data": {
      "text/plain": [
       "56"
      ]
     },
     "execution_count": 23,
     "metadata": {},
     "output_type": "execute_result"
    }
   ],
   "source": [
    "result = eval(\"(3+5)*7\")\n",
    "result"
   ]
  },
  {
   "cell_type": "code",
   "execution_count": 25,
   "id": "3279d1bb",
   "metadata": {},
   "outputs": [
    {
     "name": "stdout",
     "output_type": "stream",
     "text": [
      "[('아무개', 74), ('홍길동', 50), ('이순신', 32)]\n"
     ]
    }
   ],
   "source": [
    "array = [('홍길동',50),('이순신',32),('아무개',74)]\n",
    "print(sorted(array, key=lambda x: x[1], reverse=True))"
   ]
  },
  {
   "cell_type": "code",
   "execution_count": 32,
   "id": "0c3aa971",
   "metadata": {},
   "outputs": [
    {
     "name": "stdout",
     "output_type": "stream",
     "text": [
      "[('a', 'b', 'c'), ('a', 'c', 'b'), ('b', 'a', 'c'), ('b', 'c', 'a'), ('c', 'a', 'b'), ('c', 'b', 'a')]\n",
      "[('a', 'b'), ('a', 'c'), ('b', 'c')]\n",
      "[('a', 'a'), ('a', 'b'), ('a', 'c'), ('b', 'a'), ('b', 'b'), ('b', 'c'), ('c', 'a'), ('c', 'b'), ('c', 'c')]\n",
      "[('a', 'a'), ('a', 'b'), ('a', 'c'), ('b', 'b'), ('b', 'c'), ('c', 'c')]\n"
     ]
    }
   ],
   "source": [
    "# 순열, 조합\n",
    "from itertools import permutations, combinations, product, combinations_with_replacement\n",
    "\n",
    "data = ['a', 'b', 'c']\n",
    "\n",
    "result = list(permutations(data, 3))\n",
    "print(result)\n",
    "result = list(combinations(data, 2))\n",
    "print(result)\n",
    "result = list(product(data, repeat=2))\n",
    "print(result)\n",
    "result = list(combinations_with_replacement(data, 2))\n",
    "print(result)"
   ]
  },
  {
   "cell_type": "code",
   "execution_count": 33,
   "id": "c313178d",
   "metadata": {},
   "outputs": [
    {
     "name": "stdout",
     "output_type": "stream",
     "text": [
      "3\n",
      "1\n",
      "{'red': 2, 'blue': 3, 'green': 1}\n"
     ]
    }
   ],
   "source": [
    "# 등장횟수 세는 기능\n",
    "from collections import Counter\n",
    "\n",
    "counter = Counter(['red', 'blue', 'red', 'green', 'blue', 'blue'])\n",
    "\n",
    "print(counter['blue'])\n",
    "print(counter['green'])\n",
    "print(dict(counter))"
   ]
  },
  {
   "cell_type": "code",
   "execution_count": 35,
   "id": "22ba7eea",
   "metadata": {},
   "outputs": [
    {
     "name": "stdout",
     "output_type": "stream",
     "text": [
      "7\n",
      "42\n"
     ]
    }
   ],
   "source": [
    "# 최대공약수, 최소공배수\n",
    "import math\n",
    "\n",
    "def lcm(a,b):\n",
    "    return a * b // math.gcd(a,b)\n",
    "\n",
    "a = 21\n",
    "b = 14\n",
    "\n",
    "print(math.gcd(21, 14)) # 최대공약수\n",
    "print(lcm(21, 14)) # 최소공배수"
   ]
  }
 ],
 "metadata": {
  "kernelspec": {
   "display_name": "Python 3 (ipykernel)",
   "language": "python",
   "name": "python3"
  },
  "language_info": {
   "codemirror_mode": {
    "name": "ipython",
    "version": 3
   },
   "file_extension": ".py",
   "mimetype": "text/x-python",
   "name": "python",
   "nbconvert_exporter": "python",
   "pygments_lexer": "ipython3",
   "version": "3.9.13"
  }
 },
 "nbformat": 4,
 "nbformat_minor": 5
}
